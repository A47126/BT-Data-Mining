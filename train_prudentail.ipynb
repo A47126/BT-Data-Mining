{
 "cells": [
  {
   "cell_type": "markdown",
   "id": "5f614a93",
   "metadata": {},
   "source": [
    "# Import thư viện"
   ]
  },
  {
   "cell_type": "code",
   "execution_count": 1,
   "id": "e161041e",
   "metadata": {},
   "outputs": [],
   "source": [
    "import pandas as pd\n",
    "import numpy as np\n",
    "\n",
    "import matplotlib.pyplot as plt\n",
    "import seaborn as sns\n",
    "\n",
    "import warnings\n",
    "\n",
    "from sklearn.preprocessing import RobustScaler, LabelEncoder\n",
    "\n",
    "warnings.filterwarnings('ignore')\n",
    "\n",
    "train = pd.read_csv('train.csv')"
   ]
  },
  {
   "cell_type": "code",
   "execution_count": 3,
   "id": "dbb9dd87",
   "metadata": {},
   "outputs": [
    {
     "data": {
      "application/vnd.microsoft.datawrangler.viewer.v0+json": {
       "columns": [
        {
         "name": "index",
         "rawType": "int64",
         "type": "integer"
        },
        {
         "name": "Id",
         "rawType": "int64",
         "type": "integer"
        },
        {
         "name": "Product_Info_1",
         "rawType": "int64",
         "type": "integer"
        },
        {
         "name": "Product_Info_2",
         "rawType": "object",
         "type": "string"
        },
        {
         "name": "Product_Info_3",
         "rawType": "int64",
         "type": "integer"
        },
        {
         "name": "Product_Info_4",
         "rawType": "float64",
         "type": "float"
        },
        {
         "name": "Product_Info_5",
         "rawType": "int64",
         "type": "integer"
        },
        {
         "name": "Product_Info_6",
         "rawType": "int64",
         "type": "integer"
        },
        {
         "name": "Product_Info_7",
         "rawType": "int64",
         "type": "integer"
        },
        {
         "name": "Ins_Age",
         "rawType": "float64",
         "type": "float"
        },
        {
         "name": "Ht",
         "rawType": "float64",
         "type": "float"
        },
        {
         "name": "Wt",
         "rawType": "float64",
         "type": "float"
        },
        {
         "name": "BMI",
         "rawType": "float64",
         "type": "float"
        },
        {
         "name": "Employment_Info_1",
         "rawType": "float64",
         "type": "float"
        },
        {
         "name": "Employment_Info_2",
         "rawType": "int64",
         "type": "integer"
        },
        {
         "name": "Employment_Info_3",
         "rawType": "int64",
         "type": "integer"
        },
        {
         "name": "Employment_Info_4",
         "rawType": "float64",
         "type": "float"
        },
        {
         "name": "Employment_Info_5",
         "rawType": "int64",
         "type": "integer"
        },
        {
         "name": "Employment_Info_6",
         "rawType": "float64",
         "type": "float"
        },
        {
         "name": "InsuredInfo_1",
         "rawType": "int64",
         "type": "integer"
        },
        {
         "name": "InsuredInfo_2",
         "rawType": "int64",
         "type": "integer"
        },
        {
         "name": "InsuredInfo_3",
         "rawType": "int64",
         "type": "integer"
        },
        {
         "name": "InsuredInfo_4",
         "rawType": "int64",
         "type": "integer"
        },
        {
         "name": "InsuredInfo_5",
         "rawType": "int64",
         "type": "integer"
        },
        {
         "name": "InsuredInfo_6",
         "rawType": "int64",
         "type": "integer"
        },
        {
         "name": "InsuredInfo_7",
         "rawType": "int64",
         "type": "integer"
        },
        {
         "name": "Insurance_History_1",
         "rawType": "int64",
         "type": "integer"
        },
        {
         "name": "Insurance_History_2",
         "rawType": "int64",
         "type": "integer"
        },
        {
         "name": "Insurance_History_3",
         "rawType": "int64",
         "type": "integer"
        },
        {
         "name": "Insurance_History_4",
         "rawType": "int64",
         "type": "integer"
        },
        {
         "name": "Insurance_History_5",
         "rawType": "float64",
         "type": "float"
        },
        {
         "name": "Insurance_History_7",
         "rawType": "int64",
         "type": "integer"
        },
        {
         "name": "Insurance_History_8",
         "rawType": "int64",
         "type": "integer"
        },
        {
         "name": "Insurance_History_9",
         "rawType": "int64",
         "type": "integer"
        },
        {
         "name": "Family_Hist_1",
         "rawType": "int64",
         "type": "integer"
        },
        {
         "name": "Family_Hist_2",
         "rawType": "float64",
         "type": "float"
        },
        {
         "name": "Family_Hist_3",
         "rawType": "float64",
         "type": "float"
        },
        {
         "name": "Family_Hist_4",
         "rawType": "float64",
         "type": "float"
        },
        {
         "name": "Family_Hist_5",
         "rawType": "float64",
         "type": "float"
        },
        {
         "name": "Medical_History_1",
         "rawType": "float64",
         "type": "float"
        },
        {
         "name": "Medical_History_2",
         "rawType": "int64",
         "type": "integer"
        },
        {
         "name": "Medical_History_3",
         "rawType": "int64",
         "type": "integer"
        },
        {
         "name": "Medical_History_4",
         "rawType": "int64",
         "type": "integer"
        },
        {
         "name": "Medical_History_5",
         "rawType": "int64",
         "type": "integer"
        },
        {
         "name": "Medical_History_6",
         "rawType": "int64",
         "type": "integer"
        },
        {
         "name": "Medical_History_7",
         "rawType": "int64",
         "type": "integer"
        },
        {
         "name": "Medical_History_8",
         "rawType": "int64",
         "type": "integer"
        },
        {
         "name": "Medical_History_9",
         "rawType": "int64",
         "type": "integer"
        },
        {
         "name": "Medical_History_10",
         "rawType": "float64",
         "type": "float"
        },
        {
         "name": "Medical_History_11",
         "rawType": "int64",
         "type": "integer"
        },
        {
         "name": "Medical_History_12",
         "rawType": "int64",
         "type": "integer"
        },
        {
         "name": "Medical_History_13",
         "rawType": "int64",
         "type": "integer"
        },
        {
         "name": "Medical_History_14",
         "rawType": "int64",
         "type": "integer"
        },
        {
         "name": "Medical_History_15",
         "rawType": "float64",
         "type": "float"
        },
        {
         "name": "Medical_History_16",
         "rawType": "int64",
         "type": "integer"
        },
        {
         "name": "Medical_History_17",
         "rawType": "int64",
         "type": "integer"
        },
        {
         "name": "Medical_History_18",
         "rawType": "int64",
         "type": "integer"
        },
        {
         "name": "Medical_History_19",
         "rawType": "int64",
         "type": "integer"
        },
        {
         "name": "Medical_History_20",
         "rawType": "int64",
         "type": "integer"
        },
        {
         "name": "Medical_History_21",
         "rawType": "int64",
         "type": "integer"
        },
        {
         "name": "Medical_History_22",
         "rawType": "int64",
         "type": "integer"
        },
        {
         "name": "Medical_History_23",
         "rawType": "int64",
         "type": "integer"
        },
        {
         "name": "Medical_History_24",
         "rawType": "float64",
         "type": "float"
        },
        {
         "name": "Medical_History_25",
         "rawType": "int64",
         "type": "integer"
        },
        {
         "name": "Medical_History_26",
         "rawType": "int64",
         "type": "integer"
        },
        {
         "name": "Medical_History_27",
         "rawType": "int64",
         "type": "integer"
        },
        {
         "name": "Medical_History_28",
         "rawType": "int64",
         "type": "integer"
        },
        {
         "name": "Medical_History_29",
         "rawType": "int64",
         "type": "integer"
        },
        {
         "name": "Medical_History_30",
         "rawType": "int64",
         "type": "integer"
        },
        {
         "name": "Medical_History_31",
         "rawType": "int64",
         "type": "integer"
        },
        {
         "name": "Medical_History_32",
         "rawType": "float64",
         "type": "float"
        },
        {
         "name": "Medical_History_33",
         "rawType": "int64",
         "type": "integer"
        },
        {
         "name": "Medical_History_34",
         "rawType": "int64",
         "type": "integer"
        },
        {
         "name": "Medical_History_35",
         "rawType": "int64",
         "type": "integer"
        },
        {
         "name": "Medical_History_36",
         "rawType": "int64",
         "type": "integer"
        },
        {
         "name": "Medical_History_37",
         "rawType": "int64",
         "type": "integer"
        },
        {
         "name": "Medical_History_38",
         "rawType": "int64",
         "type": "integer"
        },
        {
         "name": "Medical_History_39",
         "rawType": "int64",
         "type": "integer"
        },
        {
         "name": "Medical_History_40",
         "rawType": "int64",
         "type": "integer"
        },
        {
         "name": "Medical_History_41",
         "rawType": "int64",
         "type": "integer"
        },
        {
         "name": "Medical_Keyword_1",
         "rawType": "int64",
         "type": "integer"
        },
        {
         "name": "Medical_Keyword_2",
         "rawType": "int64",
         "type": "integer"
        },
        {
         "name": "Medical_Keyword_3",
         "rawType": "int64",
         "type": "integer"
        },
        {
         "name": "Medical_Keyword_4",
         "rawType": "int64",
         "type": "integer"
        },
        {
         "name": "Medical_Keyword_5",
         "rawType": "int64",
         "type": "integer"
        },
        {
         "name": "Medical_Keyword_6",
         "rawType": "int64",
         "type": "integer"
        },
        {
         "name": "Medical_Keyword_7",
         "rawType": "int64",
         "type": "integer"
        },
        {
         "name": "Medical_Keyword_8",
         "rawType": "int64",
         "type": "integer"
        },
        {
         "name": "Medical_Keyword_9",
         "rawType": "int64",
         "type": "integer"
        },
        {
         "name": "Medical_Keyword_10",
         "rawType": "int64",
         "type": "integer"
        },
        {
         "name": "Medical_Keyword_11",
         "rawType": "int64",
         "type": "integer"
        },
        {
         "name": "Medical_Keyword_12",
         "rawType": "int64",
         "type": "integer"
        },
        {
         "name": "Medical_Keyword_13",
         "rawType": "int64",
         "type": "integer"
        },
        {
         "name": "Medical_Keyword_14",
         "rawType": "int64",
         "type": "integer"
        },
        {
         "name": "Medical_Keyword_15",
         "rawType": "int64",
         "type": "integer"
        },
        {
         "name": "Medical_Keyword_16",
         "rawType": "int64",
         "type": "integer"
        },
        {
         "name": "Medical_Keyword_17",
         "rawType": "int64",
         "type": "integer"
        },
        {
         "name": "Medical_Keyword_18",
         "rawType": "int64",
         "type": "integer"
        },
        {
         "name": "Medical_Keyword_19",
         "rawType": "int64",
         "type": "integer"
        },
        {
         "name": "Medical_Keyword_20",
         "rawType": "int64",
         "type": "integer"
        },
        {
         "name": "Medical_Keyword_21",
         "rawType": "int64",
         "type": "integer"
        },
        {
         "name": "Medical_Keyword_22",
         "rawType": "int64",
         "type": "integer"
        },
        {
         "name": "Medical_Keyword_23",
         "rawType": "int64",
         "type": "integer"
        },
        {
         "name": "Medical_Keyword_24",
         "rawType": "int64",
         "type": "integer"
        },
        {
         "name": "Medical_Keyword_25",
         "rawType": "int64",
         "type": "integer"
        },
        {
         "name": "Medical_Keyword_26",
         "rawType": "int64",
         "type": "integer"
        },
        {
         "name": "Medical_Keyword_27",
         "rawType": "int64",
         "type": "integer"
        },
        {
         "name": "Medical_Keyword_28",
         "rawType": "int64",
         "type": "integer"
        },
        {
         "name": "Medical_Keyword_29",
         "rawType": "int64",
         "type": "integer"
        },
        {
         "name": "Medical_Keyword_30",
         "rawType": "int64",
         "type": "integer"
        },
        {
         "name": "Medical_Keyword_31",
         "rawType": "int64",
         "type": "integer"
        },
        {
         "name": "Medical_Keyword_32",
         "rawType": "int64",
         "type": "integer"
        },
        {
         "name": "Medical_Keyword_33",
         "rawType": "int64",
         "type": "integer"
        },
        {
         "name": "Medical_Keyword_34",
         "rawType": "int64",
         "type": "integer"
        },
        {
         "name": "Medical_Keyword_35",
         "rawType": "int64",
         "type": "integer"
        },
        {
         "name": "Medical_Keyword_36",
         "rawType": "int64",
         "type": "integer"
        },
        {
         "name": "Medical_Keyword_37",
         "rawType": "int64",
         "type": "integer"
        },
        {
         "name": "Medical_Keyword_38",
         "rawType": "int64",
         "type": "integer"
        },
        {
         "name": "Medical_Keyword_39",
         "rawType": "int64",
         "type": "integer"
        },
        {
         "name": "Medical_Keyword_40",
         "rawType": "int64",
         "type": "integer"
        },
        {
         "name": "Medical_Keyword_41",
         "rawType": "int64",
         "type": "integer"
        },
        {
         "name": "Medical_Keyword_42",
         "rawType": "int64",
         "type": "integer"
        },
        {
         "name": "Medical_Keyword_43",
         "rawType": "int64",
         "type": "integer"
        },
        {
         "name": "Medical_Keyword_44",
         "rawType": "int64",
         "type": "integer"
        },
        {
         "name": "Medical_Keyword_45",
         "rawType": "int64",
         "type": "integer"
        },
        {
         "name": "Medical_Keyword_46",
         "rawType": "int64",
         "type": "integer"
        },
        {
         "name": "Medical_Keyword_47",
         "rawType": "int64",
         "type": "integer"
        },
        {
         "name": "Medical_Keyword_48",
         "rawType": "int64",
         "type": "integer"
        },
        {
         "name": "Response",
         "rawType": "int64",
         "type": "integer"
        }
       ],
       "conversionMethod": "pd.DataFrame",
       "ref": "4099a845-e04e-444d-a5b5-04dac9ad2599",
       "rows": [
        [
         "0",
         "2",
         "1",
         "D3",
         "10",
         "0.076923077",
         "2",
         "1",
         "1",
         "0.641791045",
         "0.581818182",
         "0.148535565",
         "0.323007976",
         "0.028",
         "12",
         "1",
         "0.0",
         "3",
         null,
         "1",
         "2",
         "6",
         "3",
         "1",
         "2",
         "1",
         "1",
         "1",
         "3",
         "1",
         "0.000666667",
         "1",
         "1",
         "2",
         "2",
         null,
         "0.598039216",
         null,
         "0.526785714",
         "4.0",
         "112",
         "2",
         "1",
         "1",
         "3",
         "2",
         "2",
         "1",
         null,
         "3",
         "2",
         "3",
         "3",
         "240.0",
         "3",
         "3",
         "1",
         "1",
         "2",
         "1",
         "2",
         "3",
         null,
         "1",
         "3",
         "3",
         "1",
         "3",
         "2",
         "3",
         null,
         "1",
         "3",
         "1",
         "2",
         "2",
         "1",
         "3",
         "3",
         "3",
         "0",
         "0",
         "0",
         "0",
         "0",
         "0",
         "0",
         "0",
         "0",
         "0",
         "0",
         "0",
         "0",
         "0",
         "0",
         "0",
         "0",
         "0",
         "0",
         "0",
         "0",
         "0",
         "0",
         "0",
         "0",
         "0",
         "0",
         "0",
         "0",
         "0",
         "0",
         "0",
         "0",
         "0",
         "0",
         "0",
         "0",
         "0",
         "0",
         "0",
         "0",
         "0",
         "0",
         "0",
         "0",
         "0",
         "0",
         "0",
         "8"
        ],
        [
         "1",
         "5",
         "1",
         "A1",
         "26",
         "0.076923077",
         "2",
         "3",
         "1",
         "0.059701493",
         "0.6",
         "0.131799163",
         "0.272287744",
         "0.0",
         "1",
         "3",
         "0.0",
         "2",
         "0.0018",
         "1",
         "2",
         "6",
         "3",
         "1",
         "2",
         "1",
         "2",
         "1",
         "3",
         "1",
         "0.000133333",
         "1",
         "3",
         "2",
         "2",
         "0.188405797",
         null,
         "0.084507042",
         null,
         "5.0",
         "412",
         "2",
         "1",
         "1",
         "3",
         "2",
         "2",
         "1",
         null,
         "3",
         "2",
         "3",
         "3",
         "0.0",
         "1",
         "3",
         "1",
         "1",
         "2",
         "1",
         "2",
         "3",
         null,
         "1",
         "3",
         "3",
         "1",
         "3",
         "2",
         "3",
         null,
         "3",
         "1",
         "1",
         "2",
         "2",
         "1",
         "3",
         "3",
         "1",
         "0",
         "0",
         "0",
         "0",
         "0",
         "0",
         "0",
         "0",
         "0",
         "0",
         "0",
         "0",
         "0",
         "0",
         "0",
         "0",
         "0",
         "0",
         "0",
         "0",
         "0",
         "0",
         "0",
         "0",
         "0",
         "0",
         "0",
         "0",
         "0",
         "0",
         "0",
         "0",
         "0",
         "0",
         "0",
         "0",
         "0",
         "0",
         "0",
         "0",
         "0",
         "0",
         "0",
         "0",
         "0",
         "0",
         "0",
         "0",
         "4"
        ],
        [
         "2",
         "6",
         "1",
         "E1",
         "26",
         "0.076923077",
         "2",
         "3",
         "1",
         "0.029850746",
         "0.745454545",
         "0.288702929",
         "0.428780429",
         "0.03",
         "9",
         "1",
         "0.0",
         "2",
         "0.03",
         "1",
         "2",
         "8",
         "3",
         "1",
         "1",
         "1",
         "2",
         "1",
         "1",
         "3",
         null,
         "3",
         "2",
         "3",
         "3",
         "0.304347826",
         null,
         "0.225352113",
         null,
         "10.0",
         "3",
         "2",
         "2",
         "1",
         "3",
         "2",
         "2",
         "2",
         null,
         "3",
         "2",
         "3",
         "3",
         null,
         "1",
         "3",
         "1",
         "1",
         "2",
         "1",
         "2",
         "3",
         null,
         "2",
         "2",
         "3",
         "1",
         "3",
         "2",
         "3",
         null,
         "3",
         "3",
         "1",
         "3",
         "2",
         "1",
         "3",
         "3",
         "1",
         "0",
         "0",
         "0",
         "0",
         "0",
         "0",
         "0",
         "0",
         "0",
         "0",
         "0",
         "0",
         "0",
         "0",
         "0",
         "0",
         "0",
         "0",
         "0",
         "0",
         "0",
         "0",
         "0",
         "0",
         "0",
         "0",
         "0",
         "0",
         "0",
         "0",
         "0",
         "0",
         "0",
         "0",
         "0",
         "0",
         "0",
         "0",
         "0",
         "0",
         "0",
         "0",
         "0",
         "0",
         "0",
         "0",
         "0",
         "0",
         "8"
        ],
        [
         "3",
         "7",
         "1",
         "D4",
         "10",
         "0.487179487",
         "2",
         "3",
         "1",
         "0.164179104",
         "0.672727273",
         "0.205020921",
         "0.352437744",
         "0.042",
         "9",
         "1",
         "0.0",
         "3",
         "0.2",
         "2",
         "2",
         "8",
         "3",
         "1",
         "2",
         "1",
         "2",
         "1",
         "1",
         "3",
         null,
         "3",
         "2",
         "3",
         "3",
         "0.420289855",
         null,
         "0.352112676",
         null,
         "0.0",
         "350",
         "2",
         "2",
         "1",
         "3",
         "2",
         "2",
         "2",
         null,
         "3",
         "2",
         "3",
         "3",
         null,
         "1",
         "3",
         "1",
         "1",
         "2",
         "2",
         "2",
         "3",
         null,
         "1",
         "3",
         "3",
         "1",
         "3",
         "2",
         "3",
         null,
         "3",
         "3",
         "1",
         "2",
         "2",
         "1",
         "3",
         "3",
         "1",
         "0",
         "0",
         "0",
         "0",
         "0",
         "0",
         "0",
         "0",
         "0",
         "0",
         "0",
         "0",
         "0",
         "0",
         "0",
         "0",
         "0",
         "0",
         "0",
         "0",
         "0",
         "0",
         "0",
         "0",
         "0",
         "0",
         "0",
         "0",
         "0",
         "0",
         "0",
         "1",
         "0",
         "0",
         "0",
         "0",
         "0",
         "0",
         "0",
         "0",
         "0",
         "0",
         "0",
         "0",
         "0",
         "0",
         "0",
         "0",
         "8"
        ],
        [
         "4",
         "8",
         "1",
         "D2",
         "26",
         "0.230769231",
         "2",
         "3",
         "1",
         "0.417910448",
         "0.654545455",
         "0.234309623",
         "0.424045645",
         "0.027",
         "9",
         "1",
         "0.0",
         "2",
         "0.05",
         "1",
         "2",
         "6",
         "3",
         "1",
         "2",
         "1",
         "2",
         "1",
         "1",
         "3",
         null,
         "3",
         "2",
         "3",
         "2",
         "0.463768116",
         null,
         "0.408450704",
         null,
         null,
         "162",
         "2",
         "2",
         "1",
         "3",
         "2",
         "2",
         "2",
         null,
         "3",
         "2",
         "3",
         "3",
         null,
         "1",
         "3",
         "1",
         "1",
         "2",
         "1",
         "2",
         "3",
         null,
         "2",
         "2",
         "3",
         "1",
         "3",
         "2",
         "3",
         null,
         "3",
         "3",
         "1",
         "3",
         "2",
         "1",
         "3",
         "3",
         "1",
         "0",
         "0",
         "0",
         "0",
         "0",
         "0",
         "0",
         "0",
         "0",
         "0",
         "0",
         "0",
         "0",
         "0",
         "0",
         "0",
         "0",
         "0",
         "0",
         "0",
         "0",
         "0",
         "0",
         "0",
         "0",
         "0",
         "0",
         "0",
         "0",
         "0",
         "0",
         "0",
         "0",
         "0",
         "0",
         "0",
         "0",
         "0",
         "0",
         "0",
         "0",
         "0",
         "0",
         "0",
         "0",
         "0",
         "0",
         "0",
         "8"
        ]
       ],
       "shape": {
        "columns": 128,
        "rows": 5
       }
      },
      "text/html": [
       "<div>\n",
       "<style scoped>\n",
       "    .dataframe tbody tr th:only-of-type {\n",
       "        vertical-align: middle;\n",
       "    }\n",
       "\n",
       "    .dataframe tbody tr th {\n",
       "        vertical-align: top;\n",
       "    }\n",
       "\n",
       "    .dataframe thead th {\n",
       "        text-align: right;\n",
       "    }\n",
       "</style>\n",
       "<table border=\"1\" class=\"dataframe\">\n",
       "  <thead>\n",
       "    <tr style=\"text-align: right;\">\n",
       "      <th></th>\n",
       "      <th>Id</th>\n",
       "      <th>Product_Info_1</th>\n",
       "      <th>Product_Info_2</th>\n",
       "      <th>Product_Info_3</th>\n",
       "      <th>Product_Info_4</th>\n",
       "      <th>Product_Info_5</th>\n",
       "      <th>Product_Info_6</th>\n",
       "      <th>Product_Info_7</th>\n",
       "      <th>Ins_Age</th>\n",
       "      <th>Ht</th>\n",
       "      <th>...</th>\n",
       "      <th>Medical_Keyword_40</th>\n",
       "      <th>Medical_Keyword_41</th>\n",
       "      <th>Medical_Keyword_42</th>\n",
       "      <th>Medical_Keyword_43</th>\n",
       "      <th>Medical_Keyword_44</th>\n",
       "      <th>Medical_Keyword_45</th>\n",
       "      <th>Medical_Keyword_46</th>\n",
       "      <th>Medical_Keyword_47</th>\n",
       "      <th>Medical_Keyword_48</th>\n",
       "      <th>Response</th>\n",
       "    </tr>\n",
       "  </thead>\n",
       "  <tbody>\n",
       "    <tr>\n",
       "      <th>0</th>\n",
       "      <td>2</td>\n",
       "      <td>1</td>\n",
       "      <td>D3</td>\n",
       "      <td>10</td>\n",
       "      <td>0.076923</td>\n",
       "      <td>2</td>\n",
       "      <td>1</td>\n",
       "      <td>1</td>\n",
       "      <td>0.641791</td>\n",
       "      <td>0.581818</td>\n",
       "      <td>...</td>\n",
       "      <td>0</td>\n",
       "      <td>0</td>\n",
       "      <td>0</td>\n",
       "      <td>0</td>\n",
       "      <td>0</td>\n",
       "      <td>0</td>\n",
       "      <td>0</td>\n",
       "      <td>0</td>\n",
       "      <td>0</td>\n",
       "      <td>8</td>\n",
       "    </tr>\n",
       "    <tr>\n",
       "      <th>1</th>\n",
       "      <td>5</td>\n",
       "      <td>1</td>\n",
       "      <td>A1</td>\n",
       "      <td>26</td>\n",
       "      <td>0.076923</td>\n",
       "      <td>2</td>\n",
       "      <td>3</td>\n",
       "      <td>1</td>\n",
       "      <td>0.059701</td>\n",
       "      <td>0.600000</td>\n",
       "      <td>...</td>\n",
       "      <td>0</td>\n",
       "      <td>0</td>\n",
       "      <td>0</td>\n",
       "      <td>0</td>\n",
       "      <td>0</td>\n",
       "      <td>0</td>\n",
       "      <td>0</td>\n",
       "      <td>0</td>\n",
       "      <td>0</td>\n",
       "      <td>4</td>\n",
       "    </tr>\n",
       "    <tr>\n",
       "      <th>2</th>\n",
       "      <td>6</td>\n",
       "      <td>1</td>\n",
       "      <td>E1</td>\n",
       "      <td>26</td>\n",
       "      <td>0.076923</td>\n",
       "      <td>2</td>\n",
       "      <td>3</td>\n",
       "      <td>1</td>\n",
       "      <td>0.029851</td>\n",
       "      <td>0.745455</td>\n",
       "      <td>...</td>\n",
       "      <td>0</td>\n",
       "      <td>0</td>\n",
       "      <td>0</td>\n",
       "      <td>0</td>\n",
       "      <td>0</td>\n",
       "      <td>0</td>\n",
       "      <td>0</td>\n",
       "      <td>0</td>\n",
       "      <td>0</td>\n",
       "      <td>8</td>\n",
       "    </tr>\n",
       "    <tr>\n",
       "      <th>3</th>\n",
       "      <td>7</td>\n",
       "      <td>1</td>\n",
       "      <td>D4</td>\n",
       "      <td>10</td>\n",
       "      <td>0.487179</td>\n",
       "      <td>2</td>\n",
       "      <td>3</td>\n",
       "      <td>1</td>\n",
       "      <td>0.164179</td>\n",
       "      <td>0.672727</td>\n",
       "      <td>...</td>\n",
       "      <td>0</td>\n",
       "      <td>0</td>\n",
       "      <td>0</td>\n",
       "      <td>0</td>\n",
       "      <td>0</td>\n",
       "      <td>0</td>\n",
       "      <td>0</td>\n",
       "      <td>0</td>\n",
       "      <td>0</td>\n",
       "      <td>8</td>\n",
       "    </tr>\n",
       "    <tr>\n",
       "      <th>4</th>\n",
       "      <td>8</td>\n",
       "      <td>1</td>\n",
       "      <td>D2</td>\n",
       "      <td>26</td>\n",
       "      <td>0.230769</td>\n",
       "      <td>2</td>\n",
       "      <td>3</td>\n",
       "      <td>1</td>\n",
       "      <td>0.417910</td>\n",
       "      <td>0.654545</td>\n",
       "      <td>...</td>\n",
       "      <td>0</td>\n",
       "      <td>0</td>\n",
       "      <td>0</td>\n",
       "      <td>0</td>\n",
       "      <td>0</td>\n",
       "      <td>0</td>\n",
       "      <td>0</td>\n",
       "      <td>0</td>\n",
       "      <td>0</td>\n",
       "      <td>8</td>\n",
       "    </tr>\n",
       "  </tbody>\n",
       "</table>\n",
       "<p>5 rows × 128 columns</p>\n",
       "</div>"
      ],
      "text/plain": [
       "   Id  Product_Info_1 Product_Info_2  Product_Info_3  Product_Info_4  \\\n",
       "0   2               1             D3              10        0.076923   \n",
       "1   5               1             A1              26        0.076923   \n",
       "2   6               1             E1              26        0.076923   \n",
       "3   7               1             D4              10        0.487179   \n",
       "4   8               1             D2              26        0.230769   \n",
       "\n",
       "   Product_Info_5  Product_Info_6  Product_Info_7   Ins_Age        Ht  ...  \\\n",
       "0               2               1               1  0.641791  0.581818  ...   \n",
       "1               2               3               1  0.059701  0.600000  ...   \n",
       "2               2               3               1  0.029851  0.745455  ...   \n",
       "3               2               3               1  0.164179  0.672727  ...   \n",
       "4               2               3               1  0.417910  0.654545  ...   \n",
       "\n",
       "   Medical_Keyword_40  Medical_Keyword_41  Medical_Keyword_42  \\\n",
       "0                   0                   0                   0   \n",
       "1                   0                   0                   0   \n",
       "2                   0                   0                   0   \n",
       "3                   0                   0                   0   \n",
       "4                   0                   0                   0   \n",
       "\n",
       "   Medical_Keyword_43  Medical_Keyword_44  Medical_Keyword_45  \\\n",
       "0                   0                   0                   0   \n",
       "1                   0                   0                   0   \n",
       "2                   0                   0                   0   \n",
       "3                   0                   0                   0   \n",
       "4                   0                   0                   0   \n",
       "\n",
       "   Medical_Keyword_46  Medical_Keyword_47  Medical_Keyword_48  Response  \n",
       "0                   0                   0                   0         8  \n",
       "1                   0                   0                   0         4  \n",
       "2                   0                   0                   0         8  \n",
       "3                   0                   0                   0         8  \n",
       "4                   0                   0                   0         8  \n",
       "\n",
       "[5 rows x 128 columns]"
      ]
     },
     "execution_count": 3,
     "metadata": {},
     "output_type": "execute_result"
    }
   ],
   "source": [
    "train.head()"
   ]
  },
  {
   "cell_type": "code",
   "execution_count": 4,
   "id": "08af3c8c",
   "metadata": {},
   "outputs": [
    {
     "data": {
      "text/plain": [
       "(59381, 128)"
      ]
     },
     "execution_count": 4,
     "metadata": {},
     "output_type": "execute_result"
    }
   ],
   "source": [
    "train.shape"
   ]
  },
  {
   "cell_type": "markdown",
   "id": "d0419ba2",
   "metadata": {},
   "source": [
    "# Tiền xử lý dữ liệu"
   ]
  },
  {
   "cell_type": "code",
   "execution_count": 5,
   "id": "4ba721e3",
   "metadata": {},
   "outputs": [
    {
     "data": {
      "application/vnd.microsoft.datawrangler.viewer.v0+json": {
       "columns": [
        {
         "name": "index",
         "rawType": "object",
         "type": "string"
        },
        {
         "name": "count",
         "rawType": "float64",
         "type": "float"
        },
        {
         "name": "mean",
         "rawType": "float64",
         "type": "float"
        },
        {
         "name": "std",
         "rawType": "float64",
         "type": "float"
        },
        {
         "name": "min",
         "rawType": "float64",
         "type": "float"
        },
        {
         "name": "25%",
         "rawType": "float64",
         "type": "float"
        },
        {
         "name": "50%",
         "rawType": "float64",
         "type": "float"
        },
        {
         "name": "75%",
         "rawType": "float64",
         "type": "float"
        },
        {
         "name": "max",
         "rawType": "float64",
         "type": "float"
        }
       ],
       "conversionMethod": "pd.DataFrame",
       "ref": "d179d8b0-e5aa-4db8-baca-5ba352e41be2",
       "rows": [
        [
         "Id",
         "59381.0",
         "39507.21151546791",
         "22815.883089052244",
         "2.0",
         "19780.0",
         "39487.0",
         "59211.0",
         "79146.0"
        ],
        [
         "Product_Info_1",
         "59381.0",
         "1.026355231471346",
         "0.16019071567395252",
         "1.0",
         "1.0",
         "1.0",
         "1.0",
         "2.0"
        ],
        [
         "Product_Info_3",
         "59381.0",
         "24.415654839089946",
         "5.0728854223487625",
         "1.0",
         "26.0",
         "26.0",
         "26.0",
         "38.0"
        ],
        [
         "Product_Info_4",
         "59381.0",
         "0.3289518895612738",
         "0.2825620735506887",
         "0.0",
         "0.076923077",
         "0.230769231",
         "0.487179487",
         "1.0"
        ],
        [
         "Product_Info_5",
         "59381.0",
         "2.006955086643876",
         "0.08310733858963149",
         "2.0",
         "2.0",
         "2.0",
         "2.0",
         "3.0"
        ],
        [
         "Product_Info_6",
         "59381.0",
         "2.6735992994392146",
         "0.7391029584948395",
         "1.0",
         "3.0",
         "3.0",
         "3.0",
         "3.0"
        ],
        [
         "Product_Info_7",
         "59381.0",
         "1.0435829642478234",
         "0.29194898234877764",
         "1.0",
         "1.0",
         "1.0",
         "1.0",
         "3.0"
        ],
        [
         "Ins_Age",
         "59381.0",
         "0.4055666833453462",
         "0.1971902545141539",
         "0.0",
         "0.23880597",
         "0.402985075",
         "0.567164179",
         "1.0"
        ],
        [
         "Ht",
         "59381.0",
         "0.7072831683216181",
         "0.07423889839072682",
         "0.0",
         "0.654545455",
         "0.709090909",
         "0.763636364",
         "1.0"
        ],
        [
         "Wt",
         "59381.0",
         "0.2925868614464727",
         "0.08903749081828237",
         "0.0",
         "0.225941423",
         "0.288702929",
         "0.345188285",
         "1.0"
        ],
        [
         "BMI",
         "59381.0",
         "0.4694621717727557",
         "0.12221292915663982",
         "0.0",
         "0.385516507",
         "0.451349092",
         "0.532858043",
         "1.0"
        ],
        [
         "Employment_Info_1",
         "59362.0",
         "0.07758209953084466",
         "0.08234672396514682",
         "0.0",
         "0.035",
         "0.06",
         "0.1",
         "1.0"
        ],
        [
         "Employment_Info_2",
         "59381.0",
         "8.641821458042134",
         "4.2270817296721415",
         "1.0",
         "9.0",
         "9.0",
         "9.0",
         "38.0"
        ],
        [
         "Employment_Info_3",
         "59381.0",
         "1.300904329667739",
         "0.7150341626668483",
         "1.0",
         "1.0",
         "1.0",
         "1.0",
         "3.0"
        ],
        [
         "Employment_Info_4",
         "52602.0",
         "0.0062826743249306104",
         "0.032816479602826076",
         "0.0",
         "0.0",
         "0.0",
         "0.0",
         "1.0"
        ],
        [
         "Employment_Info_5",
         "59381.0",
         "2.142958185278119",
         "0.3500331496877558",
         "2.0",
         "2.0",
         "2.0",
         "2.0",
         "3.0"
        ],
        [
         "Employment_Info_6",
         "48527.0",
         "0.36146880400148373",
         "0.3495512890408948",
         "0.0",
         "0.06",
         "0.25",
         "0.55",
         "1.0"
        ],
        [
         "InsuredInfo_1",
         "59381.0",
         "1.2093262154561224",
         "0.41793883768135887",
         "1.0",
         "1.0",
         "1.0",
         "1.0",
         "3.0"
        ],
        [
         "InsuredInfo_2",
         "59381.0",
         "2.007426617941766",
         "0.08585794912656383",
         "2.0",
         "2.0",
         "2.0",
         "2.0",
         "3.0"
        ],
        [
         "InsuredInfo_3",
         "59381.0",
         "5.835839746720332",
         "2.6745364580162603",
         "1.0",
         "3.0",
         "6.0",
         "8.0",
         "11.0"
        ],
        [
         "InsuredInfo_4",
         "59381.0",
         "2.883666492649164",
         "0.3206271255544366",
         "2.0",
         "3.0",
         "3.0",
         "3.0",
         "3.0"
        ],
        [
         "InsuredInfo_5",
         "59381.0",
         "1.0271804112426535",
         "0.23156629884789895",
         "1.0",
         "1.0",
         "1.0",
         "1.0",
         "3.0"
        ],
        [
         "InsuredInfo_6",
         "59381.0",
         "1.4091881241474546",
         "0.49168818828012584",
         "1.0",
         "1.0",
         "1.0",
         "2.0",
         "2.0"
        ],
        [
         "InsuredInfo_7",
         "59381.0",
         "1.038530843199003",
         "0.2749151383427404",
         "1.0",
         "1.0",
         "1.0",
         "1.0",
         "3.0"
        ],
        [
         "Insurance_History_1",
         "59381.0",
         "1.7276064734511039",
         "0.44519504825196576",
         "1.0",
         "1.0",
         "2.0",
         "2.0",
         "2.0"
        ],
        [
         "Insurance_History_2",
         "59381.0",
         "1.0557922567824725",
         "0.3293276843807039",
         "1.0",
         "1.0",
         "1.0",
         "1.0",
         "3.0"
        ],
        [
         "Insurance_History_3",
         "59381.0",
         "2.1469830417136793",
         "0.9891388282855677",
         "1.0",
         "1.0",
         "3.0",
         "3.0",
         "3.0"
        ],
        [
         "Insurance_History_4",
         "59381.0",
         "1.958707330627642",
         "0.9457386154262192",
         "1.0",
         "1.0",
         "2.0",
         "3.0",
         "3.0"
        ],
        [
         "Insurance_History_5",
         "33985.0",
         "0.0017330636999305575",
         "0.0073375788222222",
         "0.0",
         "0.0004",
         "0.000973333",
         "0.002",
         "1.0"
        ],
        [
         "Insurance_History_7",
         "59381.0",
         "1.9019888516528856",
         "0.971222636947382",
         "1.0",
         "1.0",
         "1.0",
         "3.0",
         "3.0"
        ],
        [
         "Insurance_History_8",
         "59381.0",
         "2.048483521665179",
         "0.7551486678983116",
         "1.0",
         "1.0",
         "2.0",
         "3.0",
         "3.0"
        ],
        [
         "Insurance_History_9",
         "59381.0",
         "2.4193597278590797",
         "0.5095765956010193",
         "1.0",
         "2.0",
         "2.0",
         "3.0",
         "3.0"
        ],
        [
         "Family_Hist_1",
         "59381.0",
         "2.6862296020612653",
         "0.4831591257006526",
         "1.0",
         "2.0",
         "3.0",
         "3.0",
         "3.0"
        ],
        [
         "Family_Hist_2",
         "30725.0",
         "0.4745500642717982",
         "0.15495921098254917",
         "0.0",
         "0.362318841",
         "0.463768116",
         "0.579710145",
         "1.0"
        ],
        [
         "Family_Hist_3",
         "25140.0",
         "0.49773737657983297",
         "0.14018739017926352",
         "0.0",
         "0.401960784",
         "0.519607843",
         "0.598039216",
         "1.0"
        ],
        [
         "Family_Hist_4",
         "40197.0",
         "0.44489025353790096",
         "0.1630123714979436",
         "0.0",
         "0.323943662",
         "0.422535211",
         "0.563380282",
         "0.943661972"
        ],
        [
         "Family_Hist_5",
         "17570.0",
         "0.4846349296655094",
         "0.12919983880632377",
         "0.0",
         "0.401785714",
         "0.508928571",
         "0.580357143",
         "1.0"
        ],
        [
         "Medical_History_1",
         "50492.0",
         "7.962172225303019",
         "13.02769725555607",
         "0.0",
         "2.0",
         "4.0",
         "9.0",
         "240.0"
        ],
        [
         "Medical_History_2",
         "59381.0",
         "253.98710025092203",
         "178.62115405035533",
         "1.0",
         "112.0",
         "162.0",
         "418.0",
         "648.0"
        ],
        [
         "Medical_History_3",
         "59381.0",
         "2.102170728010643",
         "0.30309757615814786",
         "1.0",
         "2.0",
         "2.0",
         "2.0",
         "3.0"
        ],
        [
         "Medical_History_4",
         "59381.0",
         "1.6548727707515871",
         "0.4754137472959063",
         "1.0",
         "1.0",
         "2.0",
         "2.0",
         "2.0"
        ],
        [
         "Medical_History_5",
         "59381.0",
         "1.0073592563277816",
         "0.08586374930870372",
         "1.0",
         "1.0",
         "1.0",
         "1.0",
         "3.0"
        ],
        [
         "Medical_History_6",
         "59381.0",
         "2.889897441942709",
         "0.45612757612604127",
         "1.0",
         "3.0",
         "3.0",
         "3.0",
         "3.0"
        ],
        [
         "Medical_History_7",
         "59381.0",
         "2.0122766541486334",
         "0.17235956443757208",
         "1.0",
         "2.0",
         "2.0",
         "2.0",
         "3.0"
        ],
        [
         "Medical_History_8",
         "59381.0",
         "2.0440881763527052",
         "0.29135336390591",
         "1.0",
         "2.0",
         "2.0",
         "2.0",
         "3.0"
        ],
        [
         "Medical_History_9",
         "59381.0",
         "1.7699432478402182",
         "0.42103248264713306",
         "1.0",
         "2.0",
         "2.0",
         "2.0",
         "3.0"
        ],
        [
         "Medical_History_10",
         "557.0",
         "141.1184919210054",
         "107.75955932101678",
         "0.0",
         "8.0",
         "229.0",
         "240.0",
         "240.0"
        ],
        [
         "Medical_History_11",
         "59381.0",
         "2.993836412320439",
         "0.09533971866625195",
         "1.0",
         "3.0",
         "3.0",
         "3.0",
         "3.0"
        ],
        [
         "Medical_History_12",
         "59381.0",
         "2.056600596150284",
         "0.23115265363295678",
         "1.0",
         "2.0",
         "2.0",
         "2.0",
         "3.0"
        ],
        [
         "Medical_History_13",
         "59381.0",
         "2.768141324666139",
         "0.6402594223872055",
         "1.0",
         "3.0",
         "3.0",
         "3.0",
         "3.0"
        ]
       ],
       "shape": {
        "columns": 8,
        "rows": 127
       }
      },
      "text/html": [
       "<div>\n",
       "<style scoped>\n",
       "    .dataframe tbody tr th:only-of-type {\n",
       "        vertical-align: middle;\n",
       "    }\n",
       "\n",
       "    .dataframe tbody tr th {\n",
       "        vertical-align: top;\n",
       "    }\n",
       "\n",
       "    .dataframe thead th {\n",
       "        text-align: right;\n",
       "    }\n",
       "</style>\n",
       "<table border=\"1\" class=\"dataframe\">\n",
       "  <thead>\n",
       "    <tr style=\"text-align: right;\">\n",
       "      <th></th>\n",
       "      <th>count</th>\n",
       "      <th>mean</th>\n",
       "      <th>std</th>\n",
       "      <th>min</th>\n",
       "      <th>25%</th>\n",
       "      <th>50%</th>\n",
       "      <th>75%</th>\n",
       "      <th>max</th>\n",
       "    </tr>\n",
       "  </thead>\n",
       "  <tbody>\n",
       "    <tr>\n",
       "      <th>Id</th>\n",
       "      <td>59381.0</td>\n",
       "      <td>39507.211515</td>\n",
       "      <td>22815.883089</td>\n",
       "      <td>2.0</td>\n",
       "      <td>19780.000000</td>\n",
       "      <td>39487.000000</td>\n",
       "      <td>59211.000000</td>\n",
       "      <td>79146.0</td>\n",
       "    </tr>\n",
       "    <tr>\n",
       "      <th>Product_Info_1</th>\n",
       "      <td>59381.0</td>\n",
       "      <td>1.026355</td>\n",
       "      <td>0.160191</td>\n",
       "      <td>1.0</td>\n",
       "      <td>1.000000</td>\n",
       "      <td>1.000000</td>\n",
       "      <td>1.000000</td>\n",
       "      <td>2.0</td>\n",
       "    </tr>\n",
       "    <tr>\n",
       "      <th>Product_Info_3</th>\n",
       "      <td>59381.0</td>\n",
       "      <td>24.415655</td>\n",
       "      <td>5.072885</td>\n",
       "      <td>1.0</td>\n",
       "      <td>26.000000</td>\n",
       "      <td>26.000000</td>\n",
       "      <td>26.000000</td>\n",
       "      <td>38.0</td>\n",
       "    </tr>\n",
       "    <tr>\n",
       "      <th>Product_Info_4</th>\n",
       "      <td>59381.0</td>\n",
       "      <td>0.328952</td>\n",
       "      <td>0.282562</td>\n",
       "      <td>0.0</td>\n",
       "      <td>0.076923</td>\n",
       "      <td>0.230769</td>\n",
       "      <td>0.487179</td>\n",
       "      <td>1.0</td>\n",
       "    </tr>\n",
       "    <tr>\n",
       "      <th>Product_Info_5</th>\n",
       "      <td>59381.0</td>\n",
       "      <td>2.006955</td>\n",
       "      <td>0.083107</td>\n",
       "      <td>2.0</td>\n",
       "      <td>2.000000</td>\n",
       "      <td>2.000000</td>\n",
       "      <td>2.000000</td>\n",
       "      <td>3.0</td>\n",
       "    </tr>\n",
       "    <tr>\n",
       "      <th>...</th>\n",
       "      <td>...</td>\n",
       "      <td>...</td>\n",
       "      <td>...</td>\n",
       "      <td>...</td>\n",
       "      <td>...</td>\n",
       "      <td>...</td>\n",
       "      <td>...</td>\n",
       "      <td>...</td>\n",
       "    </tr>\n",
       "    <tr>\n",
       "      <th>Medical_Keyword_45</th>\n",
       "      <td>59381.0</td>\n",
       "      <td>0.013691</td>\n",
       "      <td>0.116207</td>\n",
       "      <td>0.0</td>\n",
       "      <td>0.000000</td>\n",
       "      <td>0.000000</td>\n",
       "      <td>0.000000</td>\n",
       "      <td>1.0</td>\n",
       "    </tr>\n",
       "    <tr>\n",
       "      <th>Medical_Keyword_46</th>\n",
       "      <td>59381.0</td>\n",
       "      <td>0.008488</td>\n",
       "      <td>0.091737</td>\n",
       "      <td>0.0</td>\n",
       "      <td>0.000000</td>\n",
       "      <td>0.000000</td>\n",
       "      <td>0.000000</td>\n",
       "      <td>1.0</td>\n",
       "    </tr>\n",
       "    <tr>\n",
       "      <th>Medical_Keyword_47</th>\n",
       "      <td>59381.0</td>\n",
       "      <td>0.019905</td>\n",
       "      <td>0.139676</td>\n",
       "      <td>0.0</td>\n",
       "      <td>0.000000</td>\n",
       "      <td>0.000000</td>\n",
       "      <td>0.000000</td>\n",
       "      <td>1.0</td>\n",
       "    </tr>\n",
       "    <tr>\n",
       "      <th>Medical_Keyword_48</th>\n",
       "      <td>59381.0</td>\n",
       "      <td>0.054496</td>\n",
       "      <td>0.226995</td>\n",
       "      <td>0.0</td>\n",
       "      <td>0.000000</td>\n",
       "      <td>0.000000</td>\n",
       "      <td>0.000000</td>\n",
       "      <td>1.0</td>\n",
       "    </tr>\n",
       "    <tr>\n",
       "      <th>Response</th>\n",
       "      <td>59381.0</td>\n",
       "      <td>5.636837</td>\n",
       "      <td>2.456833</td>\n",
       "      <td>1.0</td>\n",
       "      <td>4.000000</td>\n",
       "      <td>6.000000</td>\n",
       "      <td>8.000000</td>\n",
       "      <td>8.0</td>\n",
       "    </tr>\n",
       "  </tbody>\n",
       "</table>\n",
       "<p>127 rows × 8 columns</p>\n",
       "</div>"
      ],
      "text/plain": [
       "                      count          mean           std  min           25%  \\\n",
       "Id                  59381.0  39507.211515  22815.883089  2.0  19780.000000   \n",
       "Product_Info_1      59381.0      1.026355      0.160191  1.0      1.000000   \n",
       "Product_Info_3      59381.0     24.415655      5.072885  1.0     26.000000   \n",
       "Product_Info_4      59381.0      0.328952      0.282562  0.0      0.076923   \n",
       "Product_Info_5      59381.0      2.006955      0.083107  2.0      2.000000   \n",
       "...                     ...           ...           ...  ...           ...   \n",
       "Medical_Keyword_45  59381.0      0.013691      0.116207  0.0      0.000000   \n",
       "Medical_Keyword_46  59381.0      0.008488      0.091737  0.0      0.000000   \n",
       "Medical_Keyword_47  59381.0      0.019905      0.139676  0.0      0.000000   \n",
       "Medical_Keyword_48  59381.0      0.054496      0.226995  0.0      0.000000   \n",
       "Response            59381.0      5.636837      2.456833  1.0      4.000000   \n",
       "\n",
       "                             50%           75%      max  \n",
       "Id                  39487.000000  59211.000000  79146.0  \n",
       "Product_Info_1          1.000000      1.000000      2.0  \n",
       "Product_Info_3         26.000000     26.000000     38.0  \n",
       "Product_Info_4          0.230769      0.487179      1.0  \n",
       "Product_Info_5          2.000000      2.000000      3.0  \n",
       "...                          ...           ...      ...  \n",
       "Medical_Keyword_45      0.000000      0.000000      1.0  \n",
       "Medical_Keyword_46      0.000000      0.000000      1.0  \n",
       "Medical_Keyword_47      0.000000      0.000000      1.0  \n",
       "Medical_Keyword_48      0.000000      0.000000      1.0  \n",
       "Response                6.000000      8.000000      8.0  \n",
       "\n",
       "[127 rows x 8 columns]"
      ]
     },
     "execution_count": 5,
     "metadata": {},
     "output_type": "execute_result"
    }
   ],
   "source": [
    "train.describe().T"
   ]
  },
  {
   "cell_type": "markdown",
   "id": "39aebc59",
   "metadata": {},
   "source": [
    "Xử lí null của tập train"
   ]
  },
  {
   "cell_type": "code",
   "execution_count": 6,
   "id": "a672e15b",
   "metadata": {},
   "outputs": [
    {
     "data": {
      "text/plain": [
       "Employment_Info_1         19\n",
       "Employment_Info_4       6779\n",
       "Employment_Info_6      10854\n",
       "Insurance_History_5    25396\n",
       "Family_Hist_2          28656\n",
       "Family_Hist_3          34241\n",
       "Family_Hist_4          19184\n",
       "Family_Hist_5          41811\n",
       "Medical_History_1       8889\n",
       "Medical_History_10     58824\n",
       "Medical_History_15     44596\n",
       "Medical_History_24     55580\n",
       "Medical_History_32     58274\n",
       "dtype: int64"
      ]
     },
     "execution_count": 6,
     "metadata": {},
     "output_type": "execute_result"
    }
   ],
   "source": [
    "train.isnull().sum()[train.isnull().sum() > 0]"
   ]
  },
  {
   "cell_type": "code",
   "execution_count": 7,
   "id": "ced25954",
   "metadata": {},
   "outputs": [
    {
     "data": {
      "image/png": "[encoded data removed]",
      "text/plain": [
       "<Figure size 800x400 with 1 Axes>"
      ]
     },
     "metadata": {},
     "output_type": "display_data"
    }
   ],
   "source": [
    "train_null_cols = 'Employment_Info_1'\n",
    "\n",
    "# Tính mode của cột có giá trị null\n",
    "mode = train[train_null_cols].mode()[0]\n",
    "\n",
    "plt.figure(figsize=(8, 4))\n",
    "sns.boxplot(x=train[train_null_cols], showmeans=True,\n",
    "            meanprops={\"marker\":\"o\",\n",
    "                       \"markerfacecolor\":\"red\", \n",
    "                       \"markeredgecolor\":\"black\",\n",
    "                       \"markersize\":\"8\"})\n",
    "plt.scatter([0], [mode], color='blue', label=f'Mode: {mode}')\n",
    "plt.title(f\"Boxplot: {train_null_cols}\")\n",
    "plt.xlabel(train_null_cols)\n",
    "plt.grid(True)\n",
    "plt.tight_layout()\n",
    "plt.show()\n",
    "\n",
    "# Chấm đỏ là mean\n",
    "# Đường đen là median\n",
    "# Chấm xanh dương là mode"
   ]
  },
  {
   "cell_type": "code",
   "execution_count": null,
   "id": "2051ee48",
   "metadata": {},
   "outputs": [],
   "source": [
    "plt.figure(figsize=(10,6))\n",
    "sns.histplot(data=train, x='Medical_History_15', bins=20, kde=True)\n",
    "plt.title('Histogram: Medical_History_15')\n",
    "plt.show()"
   ]
  },
  {
   "cell_type": "code",
   "execution_count": null,
   "id": "b4efb16e",
   "metadata": {},
   "outputs": [],
   "source": [
    "train['Employment_Info_1'].fillna(train['Employment_Info_1'].median(), inplace=True)\n",
    "train['Employment_Info_4'].fillna(train['Employment_Info_4'].median(), inplace=True)\n",
    "train['Employment_Info_6'].fillna(train['Employment_Info_6'].mean(), inplace=True)\n",
    "train['Insurance_History_5'].fillna(train['Insurance_History_5'].median(), inplace=True)\n",
    "train['Family_Hist_2'].fillna(train['Family_Hist_2'].median(), inplace=True)\n",
    "train['Family_Hist_3'].fillna(train['Family_Hist_3'].median(), inplace=True)\n",
    "train['Family_Hist_4'].fillna(train['Family_Hist_4'].mean(), inplace=True)\n",
    "train['Family_Hist_5'].fillna(train['Family_Hist_5'].median(), inplace=True)\n",
    "train['Medical_History_1'].fillna(train['Medical_History_1'].median(), inplace=True)\n",
    "train['Medical_History_15'].fillna(train['Medical_History_15'].median(), inplace=True)\n",
    "train['Medical_History_24'].fillna(train['Medical_History_24'].median(), inplace=True)\n",
    "train['Medical_History_32'].fillna(train['Medical_History_32'].median(), inplace=True)\n"
   ]
  },
  {
   "cell_type": "markdown",
   "id": "1121621d",
   "metadata": {},
   "source": [
    "# Chuẩn hóa"
   ]
  },
  {
   "cell_type": "code",
   "execution_count": null,
   "id": "11374924",
   "metadata": {},
   "outputs": [],
   "source": [
    "categorical_cols = train.select_dtypes(include=['object']).columns\n",
    "\n",
    "le = LabelEncoder()\n",
    "for col in categorical_cols:\n",
    "    train[col] = le.fit_transform(train[col])"
   ]
  },
  {
   "cell_type": "code",
   "execution_count": null,
   "id": "c8c6386c",
   "metadata": {},
   "outputs": [],
   "source": [
    "scaler = RobustScaler()\n",
    "for col in train.columns:\n",
    "    train[col] = scaler.fit_transform(train[[col]])"
   ]
  },
  {
   "cell_type": "code",
   "execution_count": null,
   "id": "ba38b4a7",
   "metadata": {},
   "outputs": [],
   "source": [
    "X_train = train.drop(columns=['Response'])\n",
    "y_train = train['Response']"
   ]
  }
 ],
 "metadata": {
  "kernelspec": {
   "display_name": "Python 3",
   "language": "python",
   "name": "python3"
  },
  "language_info": {
   "codemirror_mode": {
    "name": "ipython",
    "version": 3
   },
   "file_extension": ".py",
   "mimetype": "text/x-python",
   "name": "python",
   "nbconvert_exporter": "python",
   "pygments_lexer": "ipython3",
   "version": "3.13.2"
  }
 },
 "nbformat": 4,
 "nbformat_minor": 5
}

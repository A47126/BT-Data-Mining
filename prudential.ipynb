{
 "cells": [
  {
   "cell_type": "markdown",
   "id": "5f614a93",
   "metadata": {},
   "source": [
    "# Import thư viện"
   ]
  },
  {
   "cell_type": "code",
   "execution_count": null,
   "id": "e161041e",
   "metadata": {},
   "outputs": [],
   "source": [
    "# Thư viện cơ bản\n",
    "import pandas as pd\n",
    "import numpy as np\n",
    "\n",
    "\n",
    "# Thư viện vẽ biểu đồ\n",
    "import matplotlib.pyplot as plt\n",
    "import seaborn as sns\n",
    "\n",
    "# Bỏ qua các cảnh báo\n",
    "import warnings\n",
    "warnings.filterwarnings('ignore')\n",
    "\n",
    "# Thư viện tiền xử lý dữ liệu\n",
    "from sklearn.model_selection import train_test_split, GridSearchCV, cross_val_score\n",
    "from sklearn.preprocessing import LabelEncoder, label_binarize, RobustScaler\n",
    "from imblearn.over_sampling import SMOTE\n",
    "from sklearn.multiclass import OneVsRestClassifier\n",
    "\n",
    "# Thư viện mô hình\n",
    "from sklearn.tree import DecisionTreeClassifier, plot_tree\n",
    "\n",
    "# Thư viện đánh giá mô hình\n",
    "from sklearn.metrics import classification_report, ConfusionMatrixDisplay, roc_curve, auc, confusion_matrix\n",
    "\n",
    "train = pd.read_csv('train.csv')\n",
    "test = pd.read_csv('test.csv')"
   ]
  },
  {
   "cell_type": "code",
   "execution_count": null,
   "id": "dbb9dd87",
   "metadata": {},
   "outputs": [],
   "source": [
    "train.head()"
   ]
  },
  {
   "cell_type": "code",
   "execution_count": null,
   "id": "08af3c8c",
   "metadata": {},
   "outputs": [],
   "source": [
    "# Tập train chiếm 75% dữ liệu\n",
    "train.shape"
   ]
  },
  {
   "cell_type": "code",
   "execution_count": null,
   "id": "8874ee02",
   "metadata": {},
   "outputs": [],
   "source": [
    "test.head()"
   ]
  },
  {
   "cell_type": "code",
   "execution_count": null,
   "id": "77100a2b",
   "metadata": {},
   "outputs": [],
   "source": [
    "# Tập test chiếm 25% dữ liệu\n",
    "test.shape"
   ]
  },
  {
   "cell_type": "markdown",
   "id": "d0419ba2",
   "metadata": {},
   "source": [
    "# Tiền xử lý tập train"
   ]
  },
  {
   "cell_type": "code",
   "execution_count": null,
   "id": "4ba721e3",
   "metadata": {},
   "outputs": [],
   "source": [
    "train.describe().T"
   ]
  },
  {
   "cell_type": "code",
   "execution_count": null,
   "id": "2d9bcf5a",
   "metadata": {},
   "outputs": [],
   "source": [
    "train['Response'].value_counts()"
   ]
  },
  {
   "cell_type": "code",
   "execution_count": null,
   "id": "e95ad71e",
   "metadata": {},
   "outputs": [],
   "source": [
    "train['Response'].value_counts() / len(train) * 100"
   ]
  },
  {
   "cell_type": "code",
   "execution_count": null,
   "id": "9fddc862",
   "metadata": {},
   "outputs": [],
   "source": [
    "# Biểu đồ phân phối nhãn\n",
    "sns.countplot(x = train['Response'])\n",
    "\n",
    "# Nhãn phân phối khá lệch"
   ]
  },
  {
   "cell_type": "code",
   "execution_count": null,
   "id": "be185dab",
   "metadata": {},
   "outputs": [],
   "source": [
    "# Gộp nhãn mới như sau:\n",
    "# Rủi ro thấp: 1, 2, 3, 4 = 0\n",
    "# Rủi ro trung bình: 5, 6, 7 = 1\n",
    "# Rủi ro cao: 8 = 2\n",
    "def map_response(x):\n",
    "    if x in [1, 2, 3, 4]:\n",
    "        return 0\n",
    "    elif x in [5, 6, 7]:\n",
    "        return 1\n",
    "    else:\n",
    "        return 2\n",
    "train['Response'] = train['Response'].map(map_response)"
   ]
  },
  {
   "cell_type": "code",
   "execution_count": null,
   "id": "097d8be7",
   "metadata": {},
   "outputs": [],
   "source": [
    "train['Response'].value_counts()"
   ]
  },
  {
   "cell_type": "code",
   "execution_count": null,
   "id": "c7c5a479",
   "metadata": {},
   "outputs": [],
   "source": [
    "train['Response'].value_counts() / len(train) * 100"
   ]
  },
  {
   "cell_type": "code",
   "execution_count": null,
   "id": "bf12d316",
   "metadata": {},
   "outputs": [],
   "source": [
    "# Nhãn đã được phân phối lại\n",
    "sns.countplot(x = train['Response'])"
   ]
  },
  {
   "cell_type": "code",
   "execution_count": null,
   "id": "0b8c146d",
   "metadata": {},
   "outputs": [],
   "source": [
    "le = LabelEncoder()\n",
    "# Chuyển cột định tính thành định lượng\n",
    "train['Product_Info_2'] = le.fit_transform(train['Product_Info_2'])"
   ]
  },
  {
   "cell_type": "code",
   "execution_count": null,
   "id": "040499b8",
   "metadata": {},
   "outputs": [],
   "source": [
    "# Xem các cột null trong tập train\n",
    "train_null_cols = train.isnull().sum()[train.isnull().sum() > 0]\n",
    "train_null_cols"
   ]
  },
  {
   "cell_type": "code",
   "execution_count": null,
   "id": "d95f3c6e",
   "metadata": {},
   "outputs": [],
   "source": [
    "# Xem tỉ lệ các cột null trong tập train\n",
    "train_null_cols / len(train) * 100"
   ]
  },
  {
   "cell_type": "code",
   "execution_count": null,
   "id": "0613b09d",
   "metadata": {},
   "outputs": [],
   "source": [
    "# Drop tất cả cột có tỉ lệ null >= 50%\n",
    "train = train.loc[:, train.isnull().mean() < 0.5]"
   ]
  },
  {
   "cell_type": "code",
   "execution_count": null,
   "id": "8c7173e4",
   "metadata": {},
   "outputs": [],
   "source": [
    "# Fill null với trung vị\n",
    "train = train.fillna(train.median())"
   ]
  },
  {
   "cell_type": "markdown",
   "id": "cbe97898",
   "metadata": {},
   "source": [
    "# Tiền xử lý tập test"
   ]
  },
  {
   "cell_type": "code",
   "execution_count": null,
   "id": "af05edb4",
   "metadata": {},
   "outputs": [],
   "source": [
    "test.describe().T"
   ]
  },
  {
   "cell_type": "code",
   "execution_count": null,
   "id": "c43c5688",
   "metadata": {},
   "outputs": [],
   "source": [
    "# Chuyển cột định tính thành định lượng với thông tin đã huấn luyện từ tập train\n",
    "test['Product_Info_2'] = le.transform(test['Product_Info_2'])"
   ]
  },
  {
   "cell_type": "code",
   "execution_count": null,
   "id": "6070b09b",
   "metadata": {},
   "outputs": [],
   "source": [
    "# Xem các cột null trong tập test\n",
    "test_null_cols = test.isnull().sum()[test.isnull().sum() > 0]\n",
    "test_null_cols"
   ]
  },
  {
   "cell_type": "code",
   "execution_count": null,
   "id": "aa94fa8f",
   "metadata": {},
   "outputs": [],
   "source": [
    "# Xem tỉ lệ các cột null trong tập test\n",
    "test_null_cols / len(test) * 100"
   ]
  },
  {
   "cell_type": "code",
   "execution_count": null,
   "id": "3f80776f",
   "metadata": {},
   "outputs": [],
   "source": [
    "# Drop tất cả cột có tỉ lệ null >= 50%\n",
    "test = test.loc[:, test.isnull().mean() < 0.5]"
   ]
  },
  {
   "cell_type": "code",
   "execution_count": null,
   "id": "5ce1604c",
   "metadata": {},
   "outputs": [],
   "source": [
    "# Fill null với trung vị\n",
    "test = test.fillna(test.median())"
   ]
  },
  {
   "cell_type": "markdown",
   "id": "1121621d",
   "metadata": {},
   "source": [
    "# Chia Train, Validation"
   ]
  },
  {
   "cell_type": "markdown",
   "id": "39275592",
   "metadata": {},
   "source": [
    "- Lí do chia tập dữ liệu train thành train và valid là do tập test không có nhãn\n",
    "- => phải huấn luyện và kiểm tra trên train và valid sau đó đưa dự đoán vào test"
   ]
  },
  {
   "cell_type": "code",
   "execution_count": null,
   "id": "51c7c5f6",
   "metadata": {},
   "outputs": [],
   "source": [
    "# Tách dữ liệu: X - thuộc tính | y - nhãn\n",
    "X = train.drop(['Response'], axis=1)\n",
    "y = train['Response']"
   ]
  },
  {
   "cell_type": "code",
   "execution_count": null,
   "id": "5163eced",
   "metadata": {},
   "outputs": [],
   "source": [
    "# Sau khi chia dữ liệu: Train - 60%, Validation - 15%, Test - 25%\n",
    "X_train, X_val, y_train, y_val = train_test_split(X, y, test_size=1/5, random_state=42, stratify=y)\n",
    "# Khi này X_test chính là tập test\n",
    "X_test = test"
   ]
  },
  {
   "cell_type": "code",
   "execution_count": null,
   "id": "a5be89a5",
   "metadata": {},
   "outputs": [],
   "source": [
    "smote = SMOTE(random_state=42)\n",
    "X_train, y_train = smote.fit_resample(X_train, y_train)"
   ]
  },
  {
   "cell_type": "code",
   "execution_count": null,
   "id": "129b170d",
   "metadata": {},
   "outputs": [],
   "source": [
    "robust = RobustScaler()\n",
    "X_train = robust.fit_transform(X_train)\n",
    "X_val = robust.transform(X_val)\n",
    "X_test = robust.transform(X_test)"
   ]
  },
  {
   "cell_type": "code",
   "execution_count": null,
   "id": "ddc9c026",
   "metadata": {},
   "outputs": [],
   "source": [
    "X_train.shape, y_train.shape, X_val.shape, y_val.shape, X_test.shape"
   ]
  },
  {
   "cell_type": "markdown",
   "id": "70575d08",
   "metadata": {},
   "source": [
    "# Chạy mô hình"
   ]
  },
  {
   "cell_type": "markdown",
   "id": "765d9a4a",
   "metadata": {},
   "source": [
    "- Lựa chọn mô hình Decision Tree \n",
    "## Lí do:\n",
    "+ Dễ trực quan hóa bằng sơ đồ cây => dễ giải thích\n",
    "+ Không cần scale \n",
    "+ Không sợ ngoại lai vì chia nhánh dựa trên độ hỗn loạn và độ tăng thông tin\n",
    "+ Chống overfitting dễ dàng bằng cách điều chỉnh độ sâu tối đa, số lá tối thiểu, ..."
   ]
  },
  {
   "cell_type": "code",
   "execution_count": null,
   "id": "ff8c84b0",
   "metadata": {},
   "outputs": [],
   "source": [
    "clf_dt = DecisionTreeClassifier(random_state=42, class_weight='balanced')\n",
    "\n",
    "# Huấn luyện mô hình\n",
    "clf_dt.fit(X_train, y_train)"
   ]
  },
  {
   "cell_type": "code",
   "execution_count": null,
   "id": "4930d24f",
   "metadata": {},
   "outputs": [],
   "source": [
    "# Dự đoán trên tập validation\n",
    "y_pred = clf_dt.predict(X_val)"
   ]
  },
  {
   "cell_type": "code",
   "execution_count": null,
   "id": "ed3a0adf",
   "metadata": {},
   "outputs": [],
   "source": [
    "# Ma trận nhầm lẫn\n",
    "ConfusionMatrixDisplay.from_estimator(clf_dt, X_val, y_val, cmap='Blues', colorbar=False)"
   ]
  },
  {
   "cell_type": "markdown",
   "id": "2ccdd808",
   "metadata": {},
   "source": [
    "## Cách đọc ma trận nhầm lẫn có nhiều hơn 2 nhãn:\n",
    "+ Đường chéo chính: True Positive\n",
    "+ Các hàng trừ ô nằm trên đường chéo chính: FN\n",
    "+ Các cột trừ ô nằm trên đường chéo chính: FP\n",
    "\n",
    "Ví dụ minh họa:\n",
    "+ Ma trận có kích thước 3x3\n",
    "+ Ở đây TP của nhãn 0 là 1054 (vị trí 0,0)\n",
    "+ FP: Tổng của cột 0 trừ vị trí (0,0) => tổng từ (1,0) đến (2,0)\n",
    "+ FN: Tổng của hàng 0 trừ vị trí (0,0) => tổng từ (0,1) đến (0,2)"
   ]
  },
  {
   "cell_type": "code",
   "execution_count": null,
   "id": "fbc74a14",
   "metadata": {},
   "outputs": [],
   "source": [
    "print(classification_report(y_val, y_pred))"
   ]
  },
  {
   "cell_type": "code",
   "execution_count": null,
   "id": "9e183cf9",
   "metadata": {},
   "outputs": [],
   "source": [
    "# # Vẽ cây (chỉ vẽ 10 tầng đầu tiên)\n",
    "# plt.figure(figsize=(20,10))\n",
    "# plot_tree(clf_dt, max_depth=10, feature_names=train.columns[:-1], filled=True)\n",
    "# plt.show()\n",
    "\n",
    "# # Cây chưa tối ưu"
   ]
  },
  {
   "cell_type": "markdown",
   "id": "6cd762ad",
   "metadata": {},
   "source": [
    "# Tối ưu mô hình"
   ]
  },
  {
   "cell_type": "markdown",
   "id": "3a86371c",
   "metadata": {},
   "source": [
    "## Dùng GridSearchCV để tìm parameter\n",
    "Lí do:\n",
    "- Tối ưu toàn diện nhiều yếu tố: max_depth, min_samples_split, min_samples_leaf, max_leaf_nodes, ...\n",
    "- Các tham số trên trực tiếp ảnh hưởng đến độ sâu và độ phức tạp => tránh overfit/underfit\n",
    "- Có thể kết hợp cross-validation\n",
    "- Hợp với dữ liệu nhiều feature"
   ]
  },
  {
   "cell_type": "code",
   "execution_count": null,
   "id": "052bb32a",
   "metadata": {},
   "outputs": [],
   "source": [
    "param_grid = {\n",
    "    'criterion': ['gini','entropy'],                       # Tiêu chí chia nhánh\n",
    "    'max_depth': [10, 20],                        # Giới hạn độ sâu\n",
    "    'min_samples_split': [2, 5, 10],                        # Số mẫu tối thiểu để split\n",
    "    'min_samples_leaf': [5, 10],                            # Số mẫu tối thiểu trong mỗi lá\n",
    "    'max_features': ['sqrt', 'log2'],                       # Số lượng thuộc tính tối đa để chia nhánh\n",
    "    'class_weight': [None, 'balanced']                      # Cân bằng nhãn trong loss\n",
    "}"
   ]
  },
  {
   "cell_type": "code",
   "execution_count": null,
   "id": "9784d013",
   "metadata": {},
   "outputs": [],
   "source": [
    "grid_search = GridSearchCV(\n",
    "    estimator=clf_dt,\n",
    "    param_grid=param_grid,\n",
    "    scoring='f1_macro',\n",
    "    cv=5,\n",
    "    n_jobs=-1,\n",
    "    verbose=1\n",
    ")\n",
    "grid_search.fit(X_train, y_train)\n",
    "\n",
    "# f1_macro: Tính toán F1-score cho mỗi lớp, sau đó tính trung bình của tất cả các lớp mà không tính trọng số (các lớp có số mẫu nhiều hơn sẽ không ảnh hưởng nhiều hơn các lớp ít mẫu)."
   ]
  },
  {
   "cell_type": "code",
   "execution_count": null,
   "id": "2b7fba13",
   "metadata": {},
   "outputs": [],
   "source": [
    "best_param = grid_search.best_params_"
   ]
  },
  {
   "cell_type": "code",
   "execution_count": null,
   "id": "952b5b67",
   "metadata": {},
   "outputs": [],
   "source": [
    "best_estimator = grid_search.best_estimator_"
   ]
  },
  {
   "cell_type": "code",
   "execution_count": null,
   "id": "c798ac2d",
   "metadata": {},
   "outputs": [],
   "source": [
    "best_dt = DecisionTreeClassifier(**best_param, random_state=42)"
   ]
  },
  {
   "cell_type": "code",
   "execution_count": null,
   "id": "e3f57625",
   "metadata": {},
   "outputs": [],
   "source": [
    "y_pred_best = best_estimator.predict(X_val)"
   ]
  },
  {
   "cell_type": "code",
   "execution_count": null,
   "id": "a29657b5",
   "metadata": {},
   "outputs": [],
   "source": [
    "cm = confusion_matrix(y_val, y_pred_best)\n",
    "disp = ConfusionMatrixDisplay(confusion_matrix=cm, display_labels=best_estimator.classes_)\n",
    "\n",
    "plt.figure(figsize=(8,6))\n",
    "disp.plot(cmap='Blues')\n",
    "plt.title(\"Confusion Matrix\")\n",
    "plt.show()"
   ]
  },
  {
   "cell_type": "code",
   "execution_count": null,
   "id": "5065868c",
   "metadata": {},
   "outputs": [],
   "source": [
    "plt.figure(figsize=(20,10))\n",
    "plot_tree(best_estimator, filled=True, feature_names=train.columns[:-1], class_names=['0', '1', '2'], rounded=True)\n",
    "plt.show()"
   ]
  }
 ],
 "metadata": {
  "kernelspec": {
   "display_name": "Python 3",
   "language": "python",
   "name": "python3"
  },
  "language_info": {
   "codemirror_mode": {
    "name": "ipython",
    "version": 3
   },
   "file_extension": ".py",
   "mimetype": "text/x-python",
   "name": "python",
   "nbconvert_exporter": "python",
   "pygments_lexer": "ipython3",
   "version": "3.12.1"
  }
 },
 "nbformat": 4,
 "nbformat_minor": 5
}
